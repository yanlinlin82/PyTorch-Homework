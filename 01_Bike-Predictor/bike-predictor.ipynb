{
 "cells": [
  {
   "cell_type": "markdown",
   "metadata": {},
   "source": [
    "# 第一次作业：共享单车预测器\n",
    "\n",
    "姓名：颜林林\n",
    "\n",
    "学号：025\n",
    "\n",
    "## 要求\n",
    "\n",
    "实现一个三分类网络，对自行车预测数据进行高、中、低这三个类别的划分。\n",
    "\n",
    "## 实现过程\n",
    "\n",
    "### 1. 准备"
   ]
  },
  {
   "cell_type": "code",
   "execution_count": 1,
   "metadata": {
    "collapsed": true
   },
   "outputs": [],
   "source": [
    "## 初始化\n",
    "\n",
    "# 函数库装载\n",
    "import numpy as np\n",
    "import pandas as pd\n",
    "import matplotlib.pyplot as plt\n",
    "import torch\n",
    "from torch.autograd import Variable\n",
    "\n",
    "# 直接插入绘制图表\n",
    "%matplotlib inline"
   ]
  },
  {
   "cell_type": "code",
   "execution_count": 2,
   "metadata": {
    "collapsed": true
   },
   "outputs": [],
   "source": [
    "## 数据读取\n",
    "\n",
    "# 原始数据读取\n",
    "data_path = 'bike-sharing-dataset/hour.csv'\n",
    "rides = pd.read_csv(data_path)"
   ]
  },
  {
   "cell_type": "code",
   "execution_count": 3,
   "metadata": {
    "collapsed": true
   },
   "outputs": [],
   "source": [
    "## 数据预处理\n",
    "\n",
    "data = rides\n",
    "\n",
    "# 转换类型变量到独热编码\n",
    "dummy_fields = ['season', 'weathersit', 'mnth', 'hr', 'weekday'] # 所有类型编码变量名\n",
    "for each in dummy_fields:\n",
    "    dummies = pd.get_dummies(rides[each], prefix=each, drop_first=False)\n",
    "    data = pd.concat([data, dummies], axis=1)\n",
    "\n",
    "# 删除不需要的变量\n",
    "fields_to_drop = ['instant', 'dteday', 'season', 'weathersit', 'weekday', 'atemp', 'mnth', 'workingday', 'hr'] # 要删除的变量名\n",
    "data = data.drop(fields_to_drop, axis = 1)\n",
    "\n",
    "# 数据标准化\n",
    "quant_features = ['cnt', 'temp', 'hum', 'windspeed']\n",
    "scaled_features = {}\n",
    "for each in quant_features:\n",
    "    mean, std = data[each].mean(), data[each].std()\n",
    "    scaled_features[each] = [mean, std]\n",
    "    data.loc[:, each] = (data[each] - mean)/std\n",
    "\n",
    "# 输出结果分类（单车数：低、中、高，按三分位划分）\n",
    "low, high = np.quantile(data['cnt'], (1/3, 2/3))\n",
    "data['cnt_low'] = data['cnt'] <= low\n",
    "data['cnt_mid'] = np.logical_and(data['cnt'] > low, data['cnt'] <= high)\n",
    "data['cnt_high'] = data['cnt'] > high"
   ]
  },
  {
   "cell_type": "code",
   "execution_count": 4,
   "metadata": {
    "collapsed": true
   },
   "outputs": [],
   "source": [
    "## 数据集划分\n",
    "\n",
    "train_data = data[:-21*24]\n",
    "test_data = data[-21*24:]\n",
    "\n",
    "target_fields = ['cnt', 'casual', 'registered', 'cnt_low', 'cnt_mid', 'cnt_high']\n",
    "\n",
    "train_features, train_targets = train_data.drop(target_fields, axis=1), train_data[target_fields]\n",
    "test_features, test_targets = test_data.drop(target_fields, axis=1), test_data[target_fields]"
   ]
  },
  {
   "cell_type": "code",
   "execution_count": 5,
   "metadata": {
    "collapsed": true
   },
   "outputs": [],
   "source": [
    "## 构建神经网络\n",
    "\n",
    "input_size = train_features.shape[1]\n",
    "hidden_size = 10\n",
    "output_size = 3 # 输出三分类\n",
    "neu = torch.nn.Sequential(\n",
    "    torch.nn.Linear(input_size, hidden_size),\n",
    "    torch.nn.Sigmoid(),\n",
    "    torch.nn.Linear(hidden_size, output_size),\n",
    "    torch.nn.Sigmoid(),\n",
    ")\n",
    "cost = torch.nn.MSELoss()\n",
    "optimizer = torch.optim.SGD(neu.parameters(), lr = 0.01)"
   ]
  },
  {
   "cell_type": "markdown",
   "metadata": {},
   "source": [
    "### 2. 训练"
   ]
  },
  {
   "cell_type": "code",
   "execution_count": 6,
   "metadata": {},
   "outputs": [
    {
     "name": "stdout",
     "output_type": "stream",
     "text": [
      "0 0.25987017\n",
      "100 0.20669466\n",
      "200 0.1860193\n",
      "300 0.17570323\n",
      "400 0.1663003\n",
      "500 0.15672107\n",
      "600 0.14749062\n",
      "700 0.1395024\n",
      "800 0.13301833\n",
      "900 0.12778051\n"
     ]
    }
   ],
   "source": [
    "## 训练神经网络\n",
    "\n",
    "X = train_features.values\n",
    "Y = train_targets[['cnt_low', 'cnt_mid', 'cnt_high']].values\n",
    "\n",
    "losses = []\n",
    "\n",
    "batch_size = 128\n",
    "for i in range(1000):\n",
    "    batch_loss = []\n",
    "    for start in range(0, len(X), batch_size):\n",
    "        end = start + batch_size if start + batch_size < len(X) else len(X)\n",
    "        xx = torch.tensor(X[start:end], dtype = torch.float)\n",
    "        yy = torch.tensor(Y[start:end], dtype = torch.float)\n",
    "        predict = neu(xx)\n",
    "        loss = cost(predict, yy)\n",
    "        optimizer.zero_grad()\n",
    "        loss.backward()\n",
    "        optimizer.step()\n",
    "        batch_loss.append(loss.data.numpy())\n",
    "    if i % 100==0:\n",
    "        losses.append(np.mean(batch_loss))\n",
    "        print(i, np.mean(batch_loss))"
   ]
  },
  {
   "cell_type": "code",
   "execution_count": 7,
   "metadata": {},
   "outputs": [
    {
     "data": {
      "image/png": "[encoded data removed]",
      "text/plain": [
       "<Figure size 432x288 with 1 Axes>"
      ]
     },
     "metadata": {},
     "output_type": "display_data"
    }
   ],
   "source": [
    "plt.plot(np.arange(len(losses))*100, losses, 'o-')\n",
    "plt.xlabel(\"epoch\")\n",
    "plt.ylabel(\"MSE\")\n",
    "plt.show()"
   ]
  },
  {
   "cell_type": "markdown",
   "metadata": {},
   "source": [
    "### 3. 预测"
   ]
  },
  {
   "cell_type": "code",
   "execution_count": 8,
   "metadata": {},
   "outputs": [
    {
     "data": {
      "text/plain": [
       "<matplotlib.legend.Legend at 0x7f41b4303588>"
      ]
     },
     "execution_count": 8,
     "metadata": {},
     "output_type": "execute_result"
    },
    {
     "data": {
      "image/png": "[encoded data removed]",
      "text/plain": [
       "<Figure size 1080x504 with 1 Axes>"
      ]
     },
     "metadata": {},
     "output_type": "display_data"
    }
   ],
   "source": [
    "targets = test_targets[['cnt_low','cnt_mid','cnt_high']].values\n",
    "\n",
    "x = torch.tensor(test_features.values, dtype = torch.float)\n",
    "y = torch.tensor(targets, dtype = torch.float)\n",
    "\n",
    "predict = neu(x)\n",
    "prob = predict.data.numpy()\n",
    "\n",
    "exp_level = np.argmax(targets, 1)\n",
    "pred_level = np.argmax(prob, 1)\n",
    "rights = (exp_level == pred_level)\n",
    "wrongs = (exp_level != pred_level)\n",
    "right_index = np.arange(len(rights))[rights]\n",
    "rightness = prob[right_index, pred_level[right_index]]\n",
    "wrong_index = np.arange(len(wrongs))[wrongs]\n",
    "wrongness = prob[wrong_index, 1 - pred_level[wrong_index]]\n",
    "\n",
    "fig, ax = plt.subplots(figsize = (15, 7))\n",
    "ax.plot(right_index, rightness, \".\", label = \"Right\")\n",
    "ax.plot(wrong_index, wrongness, \"o\", label = \"Wrong\")\n",
    "ax.legend()\n",
    "#mean, std = scaled_features['cnt']\n",
    "#ax.plot(predict * std + mean, label = \"Prediction\")\n",
    "#ax.plot(targets * std + mean, label = \"Data\")\n",
    "#ax.legend()\n",
    "#ax.set_xlabel(\"Date-time\")\n",
    "#ax.set_ylabel(\"Counts\")"
   ]
  },
  {
   "cell_type": "code",
   "execution_count": null,
   "metadata": {
    "collapsed": true
   },
   "outputs": [],
   "source": []
  }
 ],
 "metadata": {
  "kernelspec": {
   "display_name": "Python 3",
   "language": "python3",
   "name": "python3"
  },
  "language_info": {
   "codemirror_mode": {
    "name": "ipython",
    "version": 3
   },
   "file_extension": ".py",
   "mimetype": "text/x-python",
   "name": "python",
   "nbconvert_exporter": "python",
   "pygments_lexer": "ipython3",
   "version": "3.6.5"
  }
 },
 "nbformat": 4,
 "nbformat_minor": 2
}
